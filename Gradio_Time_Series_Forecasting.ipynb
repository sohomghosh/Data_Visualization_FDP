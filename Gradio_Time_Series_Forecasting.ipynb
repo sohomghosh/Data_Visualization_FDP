{
  "cells": [
    {
      "cell_type": "markdown",
      "metadata": {
        "id": "view-in-github",
        "colab_type": "text"
      },
      "source": [
        "<a href=\"https://colab.research.google.com/github/sohomghosh/Data_Visualization_FDP/blob/main/Gradio_Time_Series_Forecasting.ipynb\" target=\"_parent\"><img src=\"https://colab.research.google.com/assets/colab-badge.svg\" alt=\"Open In Colab\"/></a>"
      ]
    },
    {
      "cell_type": "markdown",
      "id": 3.0293430767166755e+38,
      "metadata": {
        "id": 3.0293430767166755e+38
      },
      "source": [
        "# Gradio Demo: timeseries-forecasting-with-prophet\n",
        "### A simple dashboard showing pypi stats for python libraries. Updates on load, and has no buttons!\n",
        "        "
      ]
    },
    {
      "cell_type": "code",
      "execution_count": 1,
      "id": 2.7299665331067346e+38,
      "metadata": {
        "id": 2.7299665331067346e+38,
        "colab": {
          "base_uri": "https://localhost:8080/"
        },
        "outputId": "acf4b8fa-3452-4f4b-dbf0-6d091ad197f2"
      },
      "outputs": [
        {
          "output_type": "stream",
          "name": "stdout",
          "text": [
            "\u001b[K     |████████████████████████████████| 13.8 MB 6.1 MB/s \n",
            "\u001b[K     |████████████████████████████████| 8.9 MB 51.9 MB/s \n",
            "\u001b[K     |████████████████████████████████| 55 kB 4.2 MB/s \n",
            "\u001b[K     |████████████████████████████████| 84 kB 3.6 MB/s \n",
            "\u001b[K     |████████████████████████████████| 2.3 MB 48.5 MB/s \n",
            "\u001b[K     |████████████████████████████████| 278 kB 61.3 MB/s \n",
            "\u001b[K     |████████████████████████████████| 106 kB 55.5 MB/s \n",
            "\u001b[K     |████████████████████████████████| 84 kB 4.1 MB/s \n",
            "\u001b[K     |████████████████████████████████| 56 kB 5.1 MB/s \n",
            "\u001b[K     |████████████████████████████████| 106 kB 50.3 MB/s \n",
            "\u001b[K     |████████████████████████████████| 68 kB 4.0 MB/s \n",
            "\u001b[K     |████████████████████████████████| 80 kB 9.1 MB/s \n",
            "\u001b[K     |████████████████████████████████| 58 kB 5.7 MB/s \n",
            "\u001b[K     |████████████████████████████████| 64 kB 2.2 MB/s \n",
            "\u001b[K     |████████████████████████████████| 50 kB 4.6 MB/s \n",
            "\u001b[?25h  Building wheel for ffmpy (setup.py) ... \u001b[?25l\u001b[?25hdone\n",
            "  Building wheel for python-multipart (setup.py) ... \u001b[?25l\u001b[?25hdone\n"
          ]
        }
      ],
      "source": [
        "!pip install -q gradio prophet==1.1 pandas pypistats plotly"
      ]
    },
    {
      "cell_type": "code",
      "execution_count": 2,
      "id": 2.8891853944186117e+38,
      "metadata": {
        "id": 2.8891853944186117e+38,
        "colab": {
          "base_uri": "https://localhost:8080/",
          "height": 616
        },
        "outputId": "943dc05a-8c34-4ece-b70e-80f807381978"
      },
      "outputs": [
        {
          "output_type": "stream",
          "name": "stdout",
          "text": [
            "Colab notebook detected. To show errors in colab notebook, set `debug=True` in `launch()`\n",
            "Note: opening Chrome Inspector may crash demo inside Colab notebooks.\n",
            "\n",
            "To create a public link, set `share=True` in `launch()`.\n"
          ]
        },
        {
          "output_type": "display_data",
          "data": {
            "text/plain": [
              "<IPython.core.display.Javascript object>"
            ],
            "application/javascript": [
              "(async (port, path, width, height, cache, element) => {\n",
              "                        if (!google.colab.kernel.accessAllowed && !cache) {\n",
              "                            return;\n",
              "                        }\n",
              "                        element.appendChild(document.createTextNode(''));\n",
              "                        const url = await google.colab.kernel.proxyPort(port, {cache});\n",
              "\n",
              "                        const external_link = document.createElement('div');\n",
              "                        external_link.innerHTML = `\n",
              "                            <div style=\"font-family: monospace; margin-bottom: 0.5rem\">\n",
              "                                Running on <a href=${new URL(path, url).toString()} target=\"_blank\">\n",
              "                                    https://localhost:${port}${path}\n",
              "                                </a>\n",
              "                            </div>\n",
              "                        `;\n",
              "                        element.appendChild(external_link);\n",
              "\n",
              "                        const iframe = document.createElement('iframe');\n",
              "                        iframe.src = new URL(path, url).toString();\n",
              "                        iframe.height = height;\n",
              "                        iframe.allow = \"autoplay; camera; microphone; clipboard-read; clipboard-write;\"\n",
              "                        iframe.width = width;\n",
              "                        iframe.style.border = 0;\n",
              "                        element.appendChild(iframe);\n",
              "                    })(7860, \"/\", \"100%\", 500, false, window.element)"
            ]
          },
          "metadata": {}
        },
        {
          "output_type": "execute_result",
          "data": {
            "text/plain": []
          },
          "metadata": {},
          "execution_count": 2
        }
      ],
      "source": [
        "import gradio as gr\n",
        "import pypistats\n",
        "from datetime import date\n",
        "from dateutil.relativedelta import relativedelta\n",
        "import pandas as pd\n",
        "from prophet import Prophet\n",
        "pd.options.plotting.backend = \"plotly\"\n",
        "\n",
        "def get_forecast(lib, time):\n",
        "\n",
        "    data = pypistats.overall(lib, total=True, format=\"pandas\")\n",
        "    data = data.groupby(\"category\").get_group(\"with_mirrors\").sort_values(\"date\")\n",
        "    start_date = date.today() - relativedelta(months=int(time.split(\" \")[0]))\n",
        "    df = data[(data['date'] > str(start_date))] \n",
        "\n",
        "    df1 = df[['date','downloads']]\n",
        "    df1.columns = ['ds','y']\n",
        "\n",
        "    m = Prophet()\n",
        "    m.fit(df1)\n",
        "    future = m.make_future_dataframe(periods=90)\n",
        "    forecast = m.predict(future)\n",
        "    fig1 = m.plot(forecast)\n",
        "    return fig1 \n",
        "\n",
        "with gr.Blocks() as demo:\n",
        "    gr.Markdown(\n",
        "    \"\"\"\n",
        "    **Pypi Download Stats 📈 with Prophet Forecasting**: see live download stats for popular open-source libraries 🤗 along with a 3 month forecast using Prophet. The [ source code for this Gradio demo is here](https://huggingface.co/spaces/gradio/timeseries-forecasting-with-prophet/blob/main/app.py).\n",
        "    \"\"\")\n",
        "    with gr.Row():\n",
        "        lib = gr.Dropdown([\"pandas\", \"scikit-learn\", \"torch\", \"prophet\"], label=\"Library\", value=\"pandas\")\n",
        "        time = gr.Dropdown([\"3 months\", \"6 months\", \"9 months\", \"12 months\"], label=\"Downloads over the last...\", value=\"12 months\")\n",
        "\n",
        "    plt = gr.Plot()\n",
        "\n",
        "    lib.change(get_forecast, [lib, time], plt, queue=False)\n",
        "    time.change(get_forecast, [lib, time], plt, queue=False)    \n",
        "    demo.load(get_forecast, [lib, time], plt, queue=False)    \n",
        "\n",
        "demo.launch()"
      ]
    }
  ],
  "metadata": {
    "colab": {
      "provenance": [],
      "include_colab_link": true
    },
    "language_info": {
      "name": "python"
    },
    "kernelspec": {
      "name": "python3",
      "display_name": "Python 3"
    },
    "gpuClass": "standard"
  },
  "nbformat": 4,
  "nbformat_minor": 5
}